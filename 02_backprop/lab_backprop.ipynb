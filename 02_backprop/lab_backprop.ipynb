{
 "cells": [
  {
   "cell_type": "markdown",
   "metadata": {},
   "source": [
    "# Esercizi di laboratorio\n",
    "\n",
    "1. Qual è lo scopo del controllo eseguito dal primo ciclo `if`? \n",
    "\n",
    "> Cioè\n",
    "> ```octave\n",
    ">  if N~=N1 \n",
    ">      fprintf('Dimensionamento non corretto\\n\\n');\n",
    ">      % break;\n",
    ">  end\n",
    "> ```\n",
    "> boh, devo rispondere?\n",
    "\n",
    "2. Cosa contengono le matrici A e B? E a quali valori sono inizializzate?\n",
    "\n",
    "> Contengono i pesi del layer hidden e del layer di output. Vengono inizializzate randomicamente.\n",
    "\n",
    "3. Cosa contiene la variabile `q` al termine di ogni ciclo while?\n",
    "4. Qual è la funzione della variabile `ciclo`?\n",
    "\n",
    "> La stessa funzione di un `break`, ma a quanto pare le professoresse non si sono scomodate a imparare neanche sta cazzata.\n",
    "\n",
    "5. Quale variabile contiene i segnali d’errore $\\delta$ relativi alle unità di uscita?\n",
    "6. E quale variabile contiene i segnali d’errore $\\delta$ relativi alle unità hidden?\n",
    "7. Identificate i vari fattori che costituiscono i segnali d’errore delle unità hidden e di uscita"
   ]
  },
  {
   "cell_type": "code",
   "execution_count": null,
   "metadata": {},
   "outputs": [],
   "source": []
  }
 ],
 "metadata": {
  "kernelspec": {
   "display_name": "Octave",
   "language": "octave",
   "name": "octave"
  },
  "language_info": {
   "file_extension": ".m",
   "help_links": [
    {
     "text": "GNU Octave",
     "url": "https://www.gnu.org/software/octave/support.html"
    },
    {
     "text": "Octave Kernel",
     "url": "https://github.com/Calysto/octave_kernel"
    },
    {
     "text": "MetaKernel Magics",
     "url": "https://metakernel.readthedocs.io/en/latest/source/README.html"
    }
   ],
   "mimetype": "text/x-octave",
   "name": "octave",
   "version": "4.2.1"
  }
 },
 "nbformat": 4,
 "nbformat_minor": 4
}
